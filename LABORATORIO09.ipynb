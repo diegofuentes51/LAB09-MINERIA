{
  "nbformat": 4,
  "nbformat_minor": 0,
  "metadata": {
    "colab": {
      "provenance": [],
      "authorship_tag": "ABX9TyNRwSfxhZrKBF4JMbMggKQ8",
      "include_colab_link": true
    },
    "kernelspec": {
      "name": "python3",
      "display_name": "Python 3"
    },
    "language_info": {
      "name": "python"
    }
  },
  "cells": [
    {
      "cell_type": "markdown",
      "metadata": {
        "id": "view-in-github",
        "colab_type": "text"
      },
      "source": [
        "<a href=\"https://colab.research.google.com/github/diegofuentes51/LAB09-MINERIA/blob/main/LABORATORIO09.ipynb\" target=\"_parent\"><img src=\"https://colab.research.google.com/assets/colab-badge.svg\" alt=\"Open In Colab\"/></a>"
      ]
    },
    {
      "cell_type": "code",
      "source": [
        "# MODELOS DE APRENDIZAJE PROFUNDO - SEMANA 9: REDES NEURONALES ARTIFICIALES\")\n",
        "# Nombre: Diego Alonso Fuentes Arellano\n",
        "\n",
        "# Importar librerías\n",
        "import pandas as pd\n",
        "from sklearn.model_selection import train_test_split, cross_val_score\n",
        "from sklearn.preprocessing import StandardScaler\n",
        "from sklearn.neural_network import MLPClassifier\n",
        "from sklearn.metrics import accuracy_score, classification_report, confusion_matrix\n",
        "import joblib\n",
        "\n",
        "# Cargar datos\n",
        "df = pd.read_csv('/content/cancer.csv')\n",
        "\n",
        "# Eliminar columna índice si existe\n",
        "if 'Unnamed: 0' in df.columns:\n",
        "    df = df.drop('Unnamed: 0', axis=1)\n",
        "\n",
        "# Definir variable objetivo\n",
        "target_column = 'Class'\n",
        "\n",
        "# Separar características y etiqueta\n",
        "X = df.drop(target_column, axis=1)\n",
        "y = df[target_column]\n",
        "\n",
        "# Verificar etiquetas\n",
        "print(\"Valores únicos en variable objetivo:\", y.unique())\n",
        "\n",
        "# División de datos train/test\n",
        "X_train, X_test, y_train, y_test = train_test_split(X, y, test_size=0.2, random_state=42)\n",
        "\n",
        "# Escalado de características\n",
        "scaler = StandardScaler()\n",
        "X_train = scaler.fit_transform(X_train)\n",
        "X_test = scaler.transform(X_test)\n",
        "\n",
        "# Crear modelo con parámetros ajustados\n",
        "model = MLPClassifier(hidden_layer_sizes=(100,50), activation='relu', solver='adam', max_iter=700, random_state=42)\n",
        "\n",
        "# Entrenar modelo\n",
        "model.fit(X_train, y_train)\n",
        "\n",
        "# Predecir y evaluar en test\n",
        "y_pred = model.predict(X_test)\n",
        "print(\"Accuracy en test:\", accuracy_score(y_test, y_pred))\n",
        "print(\"\\nReporte de clasificación:\\n\", classification_report(y_test, y_pred))\n",
        "print(\"\\nMatriz de confusión:\\n\", confusion_matrix(y_test, y_pred))\n",
        "\n",
        "# Validación cruzada 5-fold para evaluar estabilidad\n",
        "scores = cross_val_score(model, scaler.fit_transform(X), y, cv=5)\n",
        "print(\"\\nAccuracy promedio validación cruzada (5-fold):\", scores.mean())\n",
        "\n",
        "# Guardar el modelo entrenado y el scaler\n",
        "joblib.dump(model, 'modelo_cancer.pkl')\n",
        "joblib.dump(scaler, 'scaler_cancer.pkl')\n",
        "\n",
        "print(\"\\nModelo y scaler guardados como 'modelo_cancer.pkl' y 'scaler_cancer.pkl'\")\n"
      ],
      "metadata": {
        "colab": {
          "base_uri": "https://localhost:8080/"
        },
        "id": "6lHi0bQ9fZO4",
        "outputId": "ee2f3ef1-749b-4ada-cf8d-05313d4b5824"
      },
      "execution_count": 14,
      "outputs": [
        {
          "output_type": "stream",
          "name": "stdout",
          "text": [
            "Valores únicos en variable objetivo: [0 1]\n",
            "Accuracy en test: 0.95\n",
            "\n",
            "Reporte de clasificación:\n",
            "               precision    recall  f1-score   support\n",
            "\n",
            "           0       0.95      0.98      0.96        95\n",
            "           1       0.95      0.89      0.92        45\n",
            "\n",
            "    accuracy                           0.95       140\n",
            "   macro avg       0.95      0.93      0.94       140\n",
            "weighted avg       0.95      0.95      0.95       140\n",
            "\n",
            "\n",
            "Matriz de confusión:\n",
            " [[93  2]\n",
            " [ 5 40]]\n",
            "\n",
            "Accuracy promedio validación cruzada (5-fold): 0.9570914696813977\n",
            "\n",
            "Modelo y scaler guardados como 'modelo_cancer.pkl' y 'scaler_cancer.pkl'\n"
          ]
        }
      ]
    }
  ]
}